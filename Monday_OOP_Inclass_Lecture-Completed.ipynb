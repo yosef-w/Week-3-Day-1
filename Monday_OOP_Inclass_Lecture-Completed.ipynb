{
 "cells": [
  {
   "cell_type": "markdown",
   "metadata": {},
   "source": [
    "# Object-Oriented-Programming (OOP)"
   ]
  },
  {
   "cell_type": "markdown",
   "metadata": {},
   "source": [
    "## Tasks Today:\n",
    "\n",
    "   \n",
    "\n",
    "1) <b>Creating a Class (Initializing/Declaring)</b> <br>\n",
    "2) <b>Using a Class (Instantiating)</b> <br>\n",
    " &nbsp;&nbsp;&nbsp;&nbsp; a) Creating One Instance <br>\n",
    " &nbsp;&nbsp;&nbsp;&nbsp; b) Creating Multiple Instances <br>\n",
    " &nbsp;&nbsp;&nbsp;&nbsp; c) In-Class Exercise #1 - Create a Class 'Car' and instantiate three different makes of cars <br>\n",
    "3) <b>The \\__init\\__() Method</b> <br>\n",
    " &nbsp;&nbsp;&nbsp;&nbsp; a) The 'self' Attribute <br>\n",
    "4) <b>Class Attributes</b> <br>\n",
    " &nbsp;&nbsp;&nbsp;&nbsp; a) Initializing Attributes <br>\n",
    " &nbsp;&nbsp;&nbsp;&nbsp; b) Setting an Attribute Outside of the \\__init\\__() Method <br>\n",
    " &nbsp;&nbsp;&nbsp;&nbsp; c) Setting Defaults for Attributes <br>\n",
    " &nbsp;&nbsp;&nbsp;&nbsp; d) Accessing Class Attributes <br>\n",
    " &nbsp;&nbsp;&nbsp;&nbsp; e) Changing Class Attributes <br>\n",
    " &nbsp;&nbsp;&nbsp;&nbsp; f) In-Class Exercise #2 - Add a color and wheels attribute to your 'Car' class <br>\n",
    "5) <b>Class Methods</b> <br>\n",
    " &nbsp;&nbsp;&nbsp;&nbsp; a) Creating <br>\n",
    " &nbsp;&nbsp;&nbsp;&nbsp; b) Calling <br>\n",
    " &nbsp;&nbsp;&nbsp;&nbsp; c) Modifying an Attribute's Value Through a Method <br>\n",
    " &nbsp;&nbsp;&nbsp;&nbsp; d) Incrementing an Attribute's Value Through a Method <br>\n",
    " &nbsp;&nbsp;&nbsp;&nbsp; e) In-Class Exercise #3 - Add a method that prints the cars color and wheel number, then call them <br>\n",
    "6) <b>Inheritance</b> <br>\n",
    " &nbsp;&nbsp;&nbsp;&nbsp; a) Syntax for Inheriting from a Parent Class <br>\n",
    " &nbsp;&nbsp;&nbsp;&nbsp; b) The \\__init\\__() Method for a Child Class (super()) <br>\n",
    " &nbsp;&nbsp;&nbsp;&nbsp; c) Defining Attributes and Methods for the Child Class <br>\n",
    " &nbsp;&nbsp;&nbsp;&nbsp; d) Method Overriding <br>\n",
    " &nbsp;&nbsp;&nbsp;&nbsp; e) In-Class Exercise #4 - Create a class 'Ford' that inherits from 'Car' class and initialize it as a Blue Ford Explorer with 4 wheels using the super() method <br>\n",
    "7) <b>Classes as Attributes</b> <br>\n",
    "8) <b>Exercises</b> <br>\n",
    " &nbsp;&nbsp;&nbsp;&nbsp; a) Exercise #1 - Turn the shopping cart program from yesterday into an object-oriented program <br>"
   ]
  },
  {
   "cell_type": "code",
   "execution_count": 1,
   "metadata": {},
   "outputs": [
    {
     "name": "stdout",
     "output_type": "stream",
     "text": [
      "Help on class list in module builtins:\n",
      "\n",
      "class list(object)\n",
      " |  list(iterable=(), /)\n",
      " |  \n",
      " |  Built-in mutable sequence.\n",
      " |  \n",
      " |  If no argument is given, the constructor creates a new empty list.\n",
      " |  The argument must be an iterable if specified.\n",
      " |  \n",
      " |  Methods defined here:\n",
      " |  \n",
      " |  __add__(self, value, /)\n",
      " |      Return self+value.\n",
      " |  \n",
      " |  __contains__(self, key, /)\n",
      " |      Return key in self.\n",
      " |  \n",
      " |  __delitem__(self, key, /)\n",
      " |      Delete self[key].\n",
      " |  \n",
      " |  __eq__(self, value, /)\n",
      " |      Return self==value.\n",
      " |  \n",
      " |  __ge__(self, value, /)\n",
      " |      Return self>=value.\n",
      " |  \n",
      " |  __getattribute__(self, name, /)\n",
      " |      Return getattr(self, name).\n",
      " |  \n",
      " |  __getitem__(...)\n",
      " |      x.__getitem__(y) <==> x[y]\n",
      " |  \n",
      " |  __gt__(self, value, /)\n",
      " |      Return self>value.\n",
      " |  \n",
      " |  __iadd__(self, value, /)\n",
      " |      Implement self+=value.\n",
      " |  \n",
      " |  __imul__(self, value, /)\n",
      " |      Implement self*=value.\n",
      " |  \n",
      " |  __init__(self, /, *args, **kwargs)\n",
      " |      Initialize self.  See help(type(self)) for accurate signature.\n",
      " |  \n",
      " |  __iter__(self, /)\n",
      " |      Implement iter(self).\n",
      " |  \n",
      " |  __le__(self, value, /)\n",
      " |      Return self<=value.\n",
      " |  \n",
      " |  __len__(self, /)\n",
      " |      Return len(self).\n",
      " |  \n",
      " |  __lt__(self, value, /)\n",
      " |      Return self<value.\n",
      " |  \n",
      " |  __mul__(self, value, /)\n",
      " |      Return self*value.\n",
      " |  \n",
      " |  __ne__(self, value, /)\n",
      " |      Return self!=value.\n",
      " |  \n",
      " |  __repr__(self, /)\n",
      " |      Return repr(self).\n",
      " |  \n",
      " |  __reversed__(self, /)\n",
      " |      Return a reverse iterator over the list.\n",
      " |  \n",
      " |  __rmul__(self, value, /)\n",
      " |      Return value*self.\n",
      " |  \n",
      " |  __setitem__(self, key, value, /)\n",
      " |      Set self[key] to value.\n",
      " |  \n",
      " |  __sizeof__(self, /)\n",
      " |      Return the size of the list in memory, in bytes.\n",
      " |  \n",
      " |  append(self, object, /)\n",
      " |      Append object to the end of the list.\n",
      " |  \n",
      " |  clear(self, /)\n",
      " |      Remove all items from list.\n",
      " |  \n",
      " |  copy(self, /)\n",
      " |      Return a shallow copy of the list.\n",
      " |  \n",
      " |  count(self, value, /)\n",
      " |      Return number of occurrences of value.\n",
      " |  \n",
      " |  extend(self, iterable, /)\n",
      " |      Extend list by appending elements from the iterable.\n",
      " |  \n",
      " |  index(self, value, start=0, stop=9223372036854775807, /)\n",
      " |      Return first index of value.\n",
      " |      \n",
      " |      Raises ValueError if the value is not present.\n",
      " |  \n",
      " |  insert(self, index, object, /)\n",
      " |      Insert object before index.\n",
      " |  \n",
      " |  pop(self, index=-1, /)\n",
      " |      Remove and return item at index (default last).\n",
      " |      \n",
      " |      Raises IndexError if list is empty or index is out of range.\n",
      " |  \n",
      " |  remove(self, value, /)\n",
      " |      Remove first occurrence of value.\n",
      " |      \n",
      " |      Raises ValueError if the value is not present.\n",
      " |  \n",
      " |  reverse(self, /)\n",
      " |      Reverse *IN PLACE*.\n",
      " |  \n",
      " |  sort(self, /, *, key=None, reverse=False)\n",
      " |      Sort the list in ascending order and return None.\n",
      " |      \n",
      " |      The sort is in-place (i.e. the list itself is modified) and stable (i.e. the\n",
      " |      order of two equal elements is maintained).\n",
      " |      \n",
      " |      If a key function is given, apply it once to each list item and sort them,\n",
      " |      ascending or descending, according to their function values.\n",
      " |      \n",
      " |      The reverse flag can be set to sort in descending order.\n",
      " |  \n",
      " |  ----------------------------------------------------------------------\n",
      " |  Class methods defined here:\n",
      " |  \n",
      " |  __class_getitem__(...) from builtins.type\n",
      " |      See PEP 585\n",
      " |  \n",
      " |  ----------------------------------------------------------------------\n",
      " |  Static methods defined here:\n",
      " |  \n",
      " |  __new__(*args, **kwargs) from builtins.type\n",
      " |      Create and return a new object.  See help(type) for accurate signature.\n",
      " |  \n",
      " |  ----------------------------------------------------------------------\n",
      " |  Data and other attributes defined here:\n",
      " |  \n",
      " |  __hash__ = None\n",
      "\n"
     ]
    }
   ],
   "source": [
    "help(list)"
   ]
  },
  {
   "cell_type": "markdown",
   "metadata": {},
   "source": [
    "#### Object-Oriented Programming"
   ]
  },
  {
   "cell_type": "markdown",
   "metadata": {},
   "source": [
    "Object-Oriented Programming (OOP) allows us to create programs so that that properties and behaviors are bundled into **objects**. OOP models real-world entities as software objects that have some data associated with them and can perform certain functions."
   ]
  },
  {
   "cell_type": "markdown",
   "metadata": {},
   "source": [
    "## Creating a Class (Initializing/Declaring)\n",
    "<p>When creating a class, function, or even a variable you are initializing that object. Initializing and Declaring occur at the same time in Python, whereas in lower level languages you have to declare an object before initializing it. This is the first step in the process of using a class.</p>"
   ]
  },
  {
   "cell_type": "code",
   "execution_count": 4,
   "metadata": {},
   "outputs": [
    {
     "name": "stdout",
     "output_type": "stream",
     "text": [
      "Help on class Student in module __main__:\n",
      "\n",
      "class Student(builtins.object)\n",
      " |  Data descriptors defined here:\n",
      " |  \n",
      " |  __dict__\n",
      " |      dictionary for instance variables (if defined)\n",
      " |  \n",
      " |  __weakref__\n",
      " |      list of weak references to the object (if defined)\n",
      "\n",
      "{'__module__': '__main__', '__dict__': <attribute '__dict__' of 'Student' objects>, '__weakref__': <attribute '__weakref__' of 'Student' objects>, '__doc__': None}\n"
     ]
    }
   ],
   "source": [
    "# Syntax: class Classname(): or class Classname:  *always capitalize our class names! pep8 guidelines\n",
    "class Student():\n",
    "    pass\n",
    "\n",
    "\n",
    "help(Student)\n",
    "print(Student.__dict__)"
   ]
  },
  {
   "cell_type": "code",
   "execution_count": 5,
   "metadata": {},
   "outputs": [
    {
     "name": "stdout",
     "output_type": "stream",
     "text": [
      "{'__module__': '__main__', '__dict__': <attribute '__dict__' of 'Student' objects>, '__weakref__': <attribute '__weakref__' of 'Student' objects>, '__doc__': None}\n"
     ]
    }
   ],
   "source": [
    "print(Student.__dict__)"
   ]
  },
  {
   "cell_type": "markdown",
   "metadata": {},
   "source": [
    "## Using a Class (Instantiating)\n",
    "<p>The process of creating a class is called <i>Instantiating</i>. Each time you create a variable of that type of class, it is referred to as an <i>Instance</i> of that class. This is the second step in the process of using a class.</p>"
   ]
  },
  {
   "cell_type": "code",
   "execution_count": 8,
   "metadata": {},
   "outputs": [
    {
     "name": "stdout",
     "output_type": "stream",
     "text": [
      "[1, 2, 3, 4]\n",
      "[6, 7, 8, 9, 10]\n"
     ]
    }
   ],
   "source": [
    "a_list = [1, 2, 3, 4]\n",
    "b_list = [6, 7, 8, 9]\n",
    "\n",
    "b_list.append(10)\n",
    "print(a_list)\n",
    "print(b_list)"
   ]
  },
  {
   "cell_type": "markdown",
   "metadata": {},
   "source": [
    "##### Creating One Instance"
   ]
  },
  {
   "cell_type": "code",
   "execution_count": 9,
   "metadata": {},
   "outputs": [
    {
     "name": "stdout",
     "output_type": "stream",
     "text": [
      "<__main__.Student object at 0x0000014DCA111760>\n"
     ]
    },
    {
     "data": {
      "text/plain": [
       "<__main__.Student at 0x14dca111760>"
      ]
     },
     "execution_count": 9,
     "metadata": {},
     "output_type": "execute_result"
    }
   ],
   "source": [
    "# variable = ClassName()\n",
    "\n",
    "student_1 = Student()\n",
    "\n",
    "print(student_1)\n",
    "student_1"
   ]
  },
  {
   "cell_type": "markdown",
   "metadata": {},
   "source": [
    "##### Creating Multiple Instances"
   ]
  },
  {
   "cell_type": "code",
   "execution_count": 12,
   "metadata": {},
   "outputs": [
    {
     "name": "stdout",
     "output_type": "stream",
     "text": [
      "<__main__.Student object at 0x0000014DCA111520>\n",
      "<__main__.Student object at 0x0000014DCA0F4790>\n"
     ]
    }
   ],
   "source": [
    "student_2 = Student()\n",
    "print(student_2)\n",
    "\n",
    "student_3 = Student()\n",
    "print(student_3)"
   ]
  },
  {
   "cell_type": "markdown",
   "metadata": {},
   "source": [
    "##### Adding attributes to instances"
   ]
  },
  {
   "cell_type": "code",
   "execution_count": 13,
   "metadata": {},
   "outputs": [
    {
     "name": "stdout",
     "output_type": "stream",
     "text": [
      "{'first_name': 'Jimmy', 'last_name': 'Smith'}\n",
      "{'first_name': 'Laura', 'last_name': 'Green'}\n"
     ]
    }
   ],
   "source": [
    "# instance_var_name.attribute_name = value\n",
    "\n",
    "student_1.first_name = 'Jimmy'\n",
    "student_1.last_name = 'Smith'\n",
    "\n",
    "student_2.first_name = 'Laura'\n",
    "student_2.last_name = 'Green'\n",
    "\n",
    "print(student_1.__dict__)\n",
    "print(student_2.__dict__)"
   ]
  },
  {
   "cell_type": "markdown",
   "metadata": {},
   "source": [
    "##### In-Class Exercise #1 - Create a Class 'Car' and Instantiate three different car instances. Add a different make for each car."
   ]
  },
  {
   "cell_type": "code",
   "execution_count": null,
   "metadata": {},
   "outputs": [],
   "source": [
    "class Car():\n",
    "    pass\n",
    "\n",
    "car1 = Car()\n",
    "car2 = Car().    this step is skipped with init\n",
    "car3 = Car()\n",
    "\n",
    "car1.make = 'Toyota'\n",
    "car2.make = 'Audi'\n",
    "car3.make = 'BMW'"
   ]
  },
  {
   "cell_type": "markdown",
   "metadata": {},
   "source": [
    "## The \\__init\\__() Method <br>\n",
    "<p>This method is used in almost every created class, and called only once upon the creation of the class instance. This method will initialize all variables needed for the object.</p>"
   ]
  },
  {
   "cell_type": "markdown",
   "metadata": {},
   "source": [
    "##### The 'self' Attribute <br>\n",
    "<p>This attribute is required to keep track of specific instance's attributes. Without the self attribute, the program would not know how to reference or keep track of an instance's attributes.</p>"
   ]
  },
  {
   "cell_type": "code",
   "execution_count": 16,
   "metadata": {},
   "outputs": [],
   "source": [
    "class Student:\n",
    "    pass\n",
    "    \n",
    "def create_student(student_instance, first, last, teacher):\n",
    "    student_instance = Student()\n",
    "    student_instance.first_name = first\n",
    "    student_instance.last_name = last\n",
    "    student_instance.teacher = teacher\n",
    "    return student_instance\n"
   ]
  },
  {
   "cell_type": "code",
   "execution_count": 17,
   "metadata": {},
   "outputs": [
    {
     "name": "stdout",
     "output_type": "stream",
     "text": [
      "<__main__.Student object at 0x0000014DCA1116A0>\n"
     ]
    }
   ],
   "source": [
    "\n",
    "new_student = create_student(Student(), 'Jacob', 'McAdams', 'Wormwood')\n",
    "\n",
    "print(new_student)"
   ]
  },
  {
   "cell_type": "code",
   "execution_count": 18,
   "metadata": {},
   "outputs": [
    {
     "name": "stdout",
     "output_type": "stream",
     "text": [
      "<__main__.Student object at 0x0000014DCA111F70>\n"
     ]
    }
   ],
   "source": [
    "class Student:\n",
    "    def __init__(self, first, last, teacher):\n",
    "        self.first_name = first\n",
    "        self.last_name = last\n",
    "        self.teacher = teacher\n",
    "        \n",
    "        \n",
    "newer_student = Student('Jeff', 'Miller', 'Kelly')\n",
    "\n",
    "print(newer_student)"
   ]
  },
  {
   "cell_type": "code",
   "execution_count": 7,
   "metadata": {},
   "outputs": [
    {
     "name": "stdout",
     "output_type": "stream",
     "text": [
      "Hello I am creating a new student!\n",
      "self: <__main__.Student object at 0x7f84c85c7ac0>\n",
      "<__main__.Student object at 0x7f84c85c7ac0>\n"
     ]
    }
   ],
   "source": [
    "class Student:\n",
    "    def __init__(self, first, last, teacher):\n",
    "        print('Hello I am creating a new student!')\n",
    "        print('self:', self)\n",
    "        self.first_name = first\n",
    "        self.last_name = last\n",
    "        self.teacher = teacher\n",
    "        \n",
    "new_student3 = Student('Ellen', 'McNick', 'Mr. Teacherson')\n",
    "print(new_student3)"
   ]
  },
  {
   "cell_type": "markdown",
   "metadata": {},
   "source": [
    "## Class Attributes <br>\n",
    "<p>While variables are inside of a class, they are referred to as attributes and not variables. When someone says 'attribute' you know they're speaking about a class. Attributes can be initialized through the init method, or outside of it.</p>"
   ]
  },
  {
   "cell_type": "markdown",
   "metadata": {},
   "source": [
    "##### Initializing Attributes"
   ]
  },
  {
   "cell_type": "code",
   "execution_count": 9,
   "metadata": {},
   "outputs": [],
   "source": [
    "class Truck:\n",
    "    wheels = 4 # Class attribute\n",
    "    def __init__(self, color, make):\n",
    "        self.color = color # instance attribute(s)\n",
    "        self.make = make\n",
    "        \n",
    "        \n",
    "truck1 = Truck('blue', 'Ford')\n",
    "truck2 = Truck('red', 'Chevy')"
   ]
  },
  {
   "cell_type": "markdown",
   "metadata": {},
   "source": [
    "##### Accessing Class Attributes"
   ]
  },
  {
   "cell_type": "code",
   "execution_count": null,
   "metadata": {
    "scrolled": true
   },
   "outputs": [],
   "source": [
    "# See Above"
   ]
  },
  {
   "cell_type": "markdown",
   "metadata": {},
   "source": [
    "##### Setting Defaults for Attributes"
   ]
  },
  {
   "cell_type": "code",
   "execution_count": 20,
   "metadata": {},
   "outputs": [],
   "source": [
    "class Bike():\n",
    "    \n",
    "    def __init__(self, color, brand='Schwinn'):\n",
    "        self.color = color\n",
    "        self.brand = brand\n",
    "        self.wheels = 2\n",
    "        \n",
    "        \n",
    "my_bike = Bike('blue')\n",
    "your_bike = Bike('red', 'Giant')"
   ]
  },
  {
   "cell_type": "markdown",
   "metadata": {},
   "source": [
    "##### Changing Class Attributes <br>\n",
    "<p>Keep in mind there are global class attributes and then there are attributes only available to each class instance which won't effect other classes.</p>"
   ]
  },
  {
   "cell_type": "code",
   "execution_count": 21,
   "metadata": {},
   "outputs": [],
   "source": [
    "class Truck():\n",
    "    wheels = 4 # Class attribute\n",
    "    \n",
    "    def __init__(self, color, make):\n",
    "        self.color = color # instance attributes\n",
    "        self.make = make"
   ]
  },
  {
   "cell_type": "code",
   "execution_count": 22,
   "metadata": {},
   "outputs": [],
   "source": [
    "truck1 = Truck('black', 'Ford')\n",
    "truck2 = Truck('white', 'GM')"
   ]
  },
  {
   "cell_type": "code",
   "execution_count": 23,
   "metadata": {},
   "outputs": [
    {
     "name": "stdout",
     "output_type": "stream",
     "text": [
      "4\n",
      "4\n",
      "\n",
      "16\n",
      "4\n",
      "\n",
      "16\n",
      "24\n",
      "\n",
      "truck1: {'color': 'black', 'make': 'Ford', 'wheels': 16}\n",
      "truck2: {'color': 'white', 'make': 'GM'}\n",
      "Truck Class: {'__module__': '__main__', 'wheels': 24, '__init__': <function Truck.__init__ at 0x0000014DCA1DCC10>, '__dict__': <attribute '__dict__' of 'Truck' objects>, '__weakref__': <attribute '__weakref__' of 'Truck' objects>, '__doc__': None}\n"
     ]
    }
   ],
   "source": [
    "print(truck1.wheels)\n",
    "print(truck2.wheels)\n",
    "print()\n",
    "truck1.wheels = 16 # Sets an Instance Attribute on truck1\n",
    "print(truck1.wheels)\n",
    "print(truck2.wheels)\n",
    "print()\n",
    "Truck.wheels = 24 # Changes the Class attribute on Truck\n",
    "print(truck1.wheels)\n",
    "print(truck2.wheels)\n",
    "print()\n",
    "print(\"truck1:\",truck1.__dict__)\n",
    "print(\"truck2:\",truck2.__dict__)\n",
    "print(\"Truck Class:\",Truck.__dict__)"
   ]
  },
  {
   "cell_type": "markdown",
   "metadata": {},
   "source": [
    "##### In-Class Exercise 2 - Create an \\__init__ method for your Car class which takes in color and model with a default value for gas_level of 100. Your class should also have a class attribute for model. Once you have created the class, instantiate 3 different cars"
   ]
  },
  {
   "cell_type": "code",
   "execution_count": 19,
   "metadata": {
    "scrolled": true
   },
   "outputs": [
    {
     "name": "stdout",
     "output_type": "stream",
     "text": [
      "{'model': 'Tacoma', 'color': 'Green', 'gas': 100, 'make': 'Toyota'}\n",
      "{'model': 'RAV4', 'color': 'Black', 'gas': 100, 'make': 'Toyota'}\n",
      "{'model': 'Prius', 'color': 'Blue', 'gas': 100, 'make': 'Toyota'}\n"
     ]
    },
    {
     "ename": "NameError",
     "evalue": "name 'Cars' is not defined",
     "output_type": "error",
     "traceback": [
      "\u001b[0;31m---------------------------------------------------------------------------\u001b[0m",
      "\u001b[0;31mNameError\u001b[0m                                 Traceback (most recent call last)",
      "\u001b[0;32m/var/folders/mj/f1s12msd15518x9ds4kn_v_c0000gn/T/ipykernel_90205/3046757185.py\u001b[0m in \u001b[0;36m<module>\u001b[0;34m\u001b[0m\n\u001b[1;32m     13\u001b[0m \u001b[0mprint\u001b[0m\u001b[0;34m(\u001b[0m\u001b[0mcar2\u001b[0m\u001b[0;34m.\u001b[0m\u001b[0m__dict__\u001b[0m\u001b[0;34m)\u001b[0m\u001b[0;34m\u001b[0m\u001b[0;34m\u001b[0m\u001b[0m\n\u001b[1;32m     14\u001b[0m \u001b[0mprint\u001b[0m\u001b[0;34m(\u001b[0m\u001b[0mcar3\u001b[0m\u001b[0;34m.\u001b[0m\u001b[0m__dict__\u001b[0m\u001b[0;34m)\u001b[0m\u001b[0;34m\u001b[0m\u001b[0;34m\u001b[0m\u001b[0m\n\u001b[0;32m---> 15\u001b[0;31m \u001b[0mprint\u001b[0m\u001b[0;34m(\u001b[0m\u001b[0mCars\u001b[0m\u001b[0;34m.\u001b[0m\u001b[0m__dict__\u001b[0m\u001b[0;34m)\u001b[0m\u001b[0;34m\u001b[0m\u001b[0;34m\u001b[0m\u001b[0m\n\u001b[0m",
      "\u001b[0;31mNameError\u001b[0m: name 'Cars' is not defined"
     ]
    }
   ],
   "source": [
    "class Car():\n",
    "    def __init__(self, model, color, make='Toyota', gas_level=100):\n",
    "        self.model = model\n",
    "        self.color = color\n",
    "        self.make = make\n",
    "        self.gas = gas_level\n",
    "        \n",
    "car1 = Car('Tacoma', 'Green')\n",
    "car2 = Car('RAV4', 'Black')\n",
    "car3 = Car('Prius', 'Blue')\n",
    "\n",
    "print(car1.__dict__)\n",
    "print(car2.__dict__)\n",
    "print(car3.__dict__)\n",
    "print(Cars.__dict__)"
   ]
  },
  {
   "cell_type": "markdown",
   "metadata": {},
   "source": [
    "## Class Methods <br>\n",
    "<p>While inside of a class, functions are referred to as 'methods'. If you hear someone mention methods, they're speaking about classes. Methods are essentially functions, but only callable on the instances of a class.</p>"
   ]
  },
  {
   "cell_type": "markdown",
   "metadata": {},
   "source": [
    "##### Creating"
   ]
  },
  {
   "cell_type": "code",
   "execution_count": 24,
   "metadata": {},
   "outputs": [],
   "source": [
    "class Employee():\n",
    "    raise_amount = 1.05\n",
    "    \n",
    "    def __init__(self, first, last, salary):\n",
    "        self.first = first\n",
    "        self.last = last\n",
    "        self.salary = salary\n",
    "        self.email = first + \".\" + last + \"@company.org\"\n",
    "        \n",
    "    def full_name(self):\n",
    "        return f'{self.first} {self.last}'\n",
    "    \n",
    "    def apply_raise(self):\n",
    "        self.salary = int(self.salary * self.raise_amount)\n",
    "        \n",
    "    def change_last_name(self, last):\n",
    "        self.last = last\n",
    "        self.email = self.first + \".\" + last + \"@company.org\"\n",
    "        \n",
    "    def add_health_benefits(self, provider):\n",
    "        self.insurance = provider\n",
    "    \n",
    "    \n",
    "emp_1 = Employee('Leo', 'Messi', 50000)\n",
    "emp_2 = Employee('Sergio', 'Aguero', 100000)"
   ]
  },
  {
   "cell_type": "code",
   "execution_count": 25,
   "metadata": {},
   "outputs": [
    {
     "data": {
      "text/plain": [
       "'Leo.Messi@company.org'"
      ]
     },
     "execution_count": 25,
     "metadata": {},
     "output_type": "execute_result"
    }
   ],
   "source": [
    "emp_1.email"
   ]
  },
  {
   "cell_type": "markdown",
   "metadata": {},
   "source": [
    "##### Calling"
   ]
  },
  {
   "cell_type": "code",
   "execution_count": 26,
   "metadata": {},
   "outputs": [
    {
     "name": "stdout",
     "output_type": "stream",
     "text": [
      "Leo Messi\n",
      "Sergio Aguero\n"
     ]
    }
   ],
   "source": [
    "# See Above\n",
    "print(emp_1.full_name())\n",
    "print(Employee.full_name(emp_2))"
   ]
  },
  {
   "cell_type": "markdown",
   "metadata": {},
   "source": [
    "##### Modifying an Attribute's Value Through a Method"
   ]
  },
  {
   "cell_type": "code",
   "execution_count": 27,
   "metadata": {},
   "outputs": [
    {
     "name": "stdout",
     "output_type": "stream",
     "text": [
      "{'first': 'Leo', 'last': 'Messi', 'salary': 50000, 'email': 'Leo.Messi@company.org'}\n",
      "{'first': 'Leo', 'last': 'Stanton', 'salary': 50000, 'email': 'Leo.Stanton@company.org'}\n"
     ]
    }
   ],
   "source": [
    "print(emp_1.__dict__)\n",
    "emp_1.change_last_name('Stanton')\n",
    "print(emp_1.__dict__)"
   ]
  },
  {
   "cell_type": "code",
   "execution_count": 28,
   "metadata": {},
   "outputs": [
    {
     "name": "stdout",
     "output_type": "stream",
     "text": [
      "Sergio Aguero\n",
      "Sergio Smith\n"
     ]
    }
   ],
   "source": [
    "print(emp_2.full_name())\n",
    "Employee.change_last_name(emp_2, 'Smith')\n",
    "print(emp_2.full_name())"
   ]
  },
  {
   "cell_type": "markdown",
   "metadata": {},
   "source": [
    "##### Incrementing an Attribute's Value Through a Method"
   ]
  },
  {
   "cell_type": "code",
   "execution_count": 29,
   "metadata": {},
   "outputs": [
    {
     "name": "stdout",
     "output_type": "stream",
     "text": [
      "100000\n",
      "105000\n",
      "110250\n"
     ]
    }
   ],
   "source": [
    "print(emp_2.salary)\n",
    "emp_2.apply_raise()\n",
    "print(emp_2.salary)\n",
    "emp_2.apply_raise()\n",
    "print(emp_2.salary)"
   ]
  },
  {
   "cell_type": "markdown",
   "metadata": {},
   "source": [
    "##### In-Class Exercise #3 - Add two methods to your car class. One method called `drive` that will take in the number of miles and decrease that car's `gas_level` by 1 unit for every 5 miles. Another method called `fill_up` will take in gallons and increase the `gas_level` by 10 units for every gallon."
   ]
  },
  {
   "cell_type": "code",
   "execution_count": 25,
   "metadata": {},
   "outputs": [
    {
     "ename": "AttributeError",
     "evalue": "type object 'Car' has no attribute 'drive'",
     "output_type": "error",
     "traceback": [
      "\u001b[0;31m---------------------------------------------------------------------------\u001b[0m",
      "\u001b[0;31mAttributeError\u001b[0m                            Traceback (most recent call last)",
      "\u001b[0;32m/var/folders/mj/f1s12msd15518x9ds4kn_v_c0000gn/T/ipykernel_90205/1689258440.py\u001b[0m in \u001b[0;36m<module>\u001b[0;34m\u001b[0m\n\u001b[1;32m     20\u001b[0m \u001b[0mcar3\u001b[0m \u001b[0;34m=\u001b[0m \u001b[0mCar\u001b[0m\u001b[0;34m(\u001b[0m\u001b[0;34m'Prius'\u001b[0m\u001b[0;34m,\u001b[0m \u001b[0;34m'Blue'\u001b[0m\u001b[0;34m)\u001b[0m\u001b[0;34m\u001b[0m\u001b[0;34m\u001b[0m\u001b[0m\n\u001b[1;32m     21\u001b[0m \u001b[0;34m\u001b[0m\u001b[0m\n\u001b[0;32m---> 22\u001b[0;31m \u001b[0mprint\u001b[0m\u001b[0;34m(\u001b[0m\u001b[0mCar\u001b[0m\u001b[0;34m.\u001b[0m\u001b[0mdrive\u001b[0m\u001b[0;34m(\u001b[0m\u001b[0mcar1\u001b[0m\u001b[0;34m)\u001b[0m\u001b[0;34m)\u001b[0m\u001b[0;34m\u001b[0m\u001b[0;34m\u001b[0m\u001b[0m\n\u001b[0m\u001b[1;32m     23\u001b[0m \u001b[0;34m\u001b[0m\u001b[0m\n",
      "\u001b[0;31mAttributeError\u001b[0m: type object 'Car' has no attribute 'drive'"
     ]
    }
   ],
   "source": [
    "class Car():\n",
    "    \n",
    "    def __init__(self, model, color, make='Toyota', gas_level=100):\n",
    "        self.model = model\n",
    "        self.color = color\n",
    "        self.make = make\n",
    "        self.gas = gas_level\n",
    "        \n",
    "        def drive(self,num_miles):\n",
    "            unit_decrease + num_miles //5\n",
    "            self.gas = int(self.gas - self.decrease)\n",
    "            \n",
    "        def fill_up(self):\n",
    "            self.gas = int(self.gas + self.increase)\n",
    "            \n",
    "            \n",
    "car1 = Car('Tacoma', 'Green')\n",
    "car2 = Car('RAV4', 'Black')\n",
    "car3 = Car('Prius', 'Blue')\n",
    "        \n",
    "print(Car.drive(car1))\n",
    "\n"
   ]
  },
  {
   "cell_type": "markdown",
   "metadata": {},
   "source": [
    "## Classes as Attributes <br>\n",
    "<p>Classes can also be used as attributes within another class. This is useful in situations where you need to keep variables locally stored, instead of globally stored.</p>"
   ]
  },
  {
   "cell_type": "code",
   "execution_count": 39,
   "metadata": {},
   "outputs": [],
   "source": [
    "class Album:\n",
    "    company = 'Apple Records'\n",
    "    \n",
    "    def __init__(self, title, artist, release_year, song_list=[]):\n",
    "        self.title = title.title()\n",
    "        self.artist = artist.title()\n",
    "        self.release_year = release_year\n",
    "        self.song_list = song_list\n",
    "        \n",
    "    def add_song(self, song):\n",
    "        self.song_list.append(song)\n",
    "        print(f'{song.title} has been added to the album at position {len(self.song_list)}')\n",
    "        \n",
    "        \n",
    "    def play_album(self):\n",
    "        for song in self.song_list:\n",
    "            print(f'playing {song.title} for the next {song.length}')\n",
    "            \n",
    "        \n",
    "        \n",
    "class Song:\n",
    "    \n",
    "    def __init__(self, title, length, features=None):\n",
    "        self.title = title\n",
    "        self.length = length\n",
    "        self.features = features\n",
    "        \n",
    "        \n",
    "abbey_road = Album('Abbey Road', 'The Beatles', 1969)\n",
    "song1 = Song('Come Together', '4:19')\n",
    "song2 = Song('Something', '3:02')\n",
    "song3 = Song(\"Maxwell's Silver Hammer\", '3:27')"
   ]
  },
  {
   "cell_type": "code",
   "execution_count": 40,
   "metadata": {},
   "outputs": [
    {
     "name": "stdout",
     "output_type": "stream",
     "text": [
      "Come Together has been added to the album at position 1\n",
      "Something has been added to the album at position 2\n",
      "Maxwell's Silver Hammer has been added to the album at position 3\n"
     ]
    }
   ],
   "source": [
    "abbey_road.add_song(song1)\n",
    "abbey_road.add_song(song2)\n",
    "abbey_road.add_song(song3)"
   ]
  },
  {
   "cell_type": "code",
   "execution_count": 41,
   "metadata": {},
   "outputs": [
    {
     "name": "stdout",
     "output_type": "stream",
     "text": [
      "playing Come Together for the next 4:19\n",
      "playing Something for the next 3:02\n",
      "playing Maxwell's Silver Hammer for the next 3:27\n"
     ]
    }
   ],
   "source": [
    "abbey_road.play_album()"
   ]
  },
  {
   "cell_type": "markdown",
   "metadata": {},
   "source": [
    "# Exercises"
   ]
  },
  {
   "cell_type": "markdown",
   "metadata": {},
   "source": [
    "### Exercise 1 - Turn the shopping cart program into an object-oriented program"
   ]
  },
  {
   "cell_type": "code",
   "execution_count": null,
   "metadata": {},
   "outputs": [],
   "source": [
    "class Cart():\n",
    "    def __init__(self, customer_name):\n",
    "        self.customer_name = customer_name\n",
    "        self.cart = []\n",
    "        \n",
    "    def add_to_cart(self, new_item):\n",
    "        self.cart.append(new_item)\n",
    "    \n",
    "    def remove_from_cart(self):\n",
    "        pass\n",
    "    \n",
    "    def show_cart(self):\n",
    "        pass\n",
    "    \n",
    "class Product:\n",
    "    def __init__(self, name, quanity, price):\n",
    "        self.name = name\n",
    "        self.quantity = quantity\n",
    "        self.price = price\n",
    "        \n",
    "    def get_product_total(self):\n",
    "        return self.quantity * self.price\n",
    "    \n",
    "    \n",
    "def run():\n",
    "    cust_name = input('Welcome. What is your name? ')\n",
    "    my_cart = Cart(cust_name)\n",
    "    while True:\n",
    "        ask = input('What would you like to do? Add/Remove/Show/Quit ').lower()\n",
    "        if ask == 'quit':\n",
    "            break\n",
    "        elif ask == 'add':\n",
    "            item = input('What would you like to add? ')\n",
    "            my_cart.add_to_cart(item)\n",
    "            \n",
    "            \n",
    "            \n",
    "    \n",
    "run()"
   ]
  },
  {
   "cell_type": "markdown",
   "metadata": {},
   "source": [
    "### Exercise 2 - Write a Python class for an Animal that has a name and energy attributes. The animal class should also have methods for eat, sleep, and play that will take in an integer and increase/decrease the energy of the animal with a formatted print statement"
   ]
  },
  {
   "cell_type": "code",
   "execution_count": 40,
   "metadata": {},
   "outputs": [
    {
     "name": "stdout",
     "output_type": "stream",
     "text": [
      "5\n",
      "Buddy is playing for 5 minutes. His energy is now 5\n",
      "Buddy is sleeping for 10 minutes. His energy is now 15\n"
     ]
    }
   ],
   "source": [
    "# Example 1\n",
    "class Animal:\n",
    "    \n",
    "    def __init__(self, name, energy):\n",
    "        self.name = name\n",
    "        self.energy = energy\n",
    "        \n",
    "    def eat(self, time):\n",
    "        self.energy += time\n",
    "        \n",
    "    def sleep(self, time):\n",
    "        self.energy += time\n",
    "        print(f'Buddy is sleeping for {time} minutes. His energy is now {self.energy}')\n",
    "\n",
    "    def play(self, time):\n",
    "        self.energy -= time\n",
    "        print (self.energy)\n",
    "        print(f'Buddy is playing for {time} minutes. His energy is now {self.energy}')\n",
    "\n",
    "\n",
    "buddy = Animal('Buddy', 10)\n",
    "buddy.play(5) # -> \"Buddy is playing for 5 minutes. His energy is now 5\"\n",
    "buddy.sleep(10) # -> \"Buddy is sleeping for 10 minutes. His energy is now 15\""
   ]
  },
  {
   "cell_type": "code",
   "execution_count": null,
   "metadata": {},
   "outputs": [],
   "source": []
  }
 ],
 "metadata": {
  "kernelspec": {
   "display_name": "Python 3 (ipykernel)",
   "language": "python",
   "name": "python3"
  },
  "language_info": {
   "codemirror_mode": {
    "name": "ipython",
    "version": 3
   },
   "file_extension": ".py",
   "mimetype": "text/x-python",
   "name": "python",
   "nbconvert_exporter": "python",
   "pygments_lexer": "ipython3",
   "version": "3.9.13"
  }
 },
 "nbformat": 4,
 "nbformat_minor": 2
}
